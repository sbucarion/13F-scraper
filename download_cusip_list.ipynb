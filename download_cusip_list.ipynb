{
 "cells": [
  {
   "cell_type": "code",
   "execution_count": 3,
   "metadata": {},
   "outputs": [],
   "source": [
    "import requests\n",
    "from bs4 import BeautifulSoup\n",
    "import os\n",
    "import urllib.request\n",
    "import fitz\n",
    "\n",
    "\n",
    "def check_current_pdf(current_list_title, pdf_directory):\n",
    "    pdf_directory = pdf_directory + \"\\\\\" + current_list_title + '.pdf'\n",
    "    \n",
    "    if os.path.exists(pdf_directory):\n",
    "        return True\n",
    "    \n",
    "    return False\n",
    "    \n",
    "\n",
    "def find_current_list(url, headers):\n",
    "    \"\"\"\n",
    "    Find the most recent pdf of cusips\n",
    "    on the SEC website to check if our\n",
    "    local pdf is out of date\n",
    "    \n",
    "    Returns link to list and title of list\n",
    "    \"\"\"\n",
    "    \n",
    "    html = requests.get(url,headers=headers)\n",
    "    soup = BeautifulSoup(html.text)\n",
    "    \n",
    "    #Only get pdf lines (removes all header lines with menu_item class)\n",
    "    historical_pdfs = soup.findAll('li',attrs={\"class\":None})\n",
    "    \n",
    "    #Scan all pdf lines\n",
    "    for pdf in historical_pdfs:\n",
    "        if 'Current List' in pdf.text:\n",
    "            tag = pdf.find(href=True)\n",
    "            href = \"https://www.sec.gov\" + tag.get('href')\n",
    "            title = href.split(\"/\")[-1].split(\".\")[0]\n",
    "            #title = tag.get('title')\n",
    "            \n",
    "            return href, title\n",
    "        \n",
    "        \n",
    "def download_pdf(pdf_link, pdf_title, pdf_directory):\n",
    "    response = urllib.request.urlopen(pdf_link)  \n",
    "    file_name = pdf_title + '.pdf'\n",
    "    \n",
    "    directory = pdf_directory + '\\\\' + file_name\n",
    "    \n",
    "    file = open(directory, 'wb')\n",
    "    file.write(response.read())\n",
    "    file.close()\n",
    "    \n",
    "    return \"PDF list Updated\"\n",
    "\n",
    "    \n",
    "def update_pdf_cusip_list(url, headers, pdf_directory):\n",
    "    pdf_link, pdf_title = find_current_list(url, headers)\n",
    "\n",
    "    if check_current_pdf(pdf_title, pdf_directory):\n",
    "        return \"PDF is up to date\"\n",
    "    \n",
    "    else:\n",
    "        return download_pdf(pdf_link, pdf_title, pdf_directory)"
   ]
  },
  {
   "cell_type": "code",
   "execution_count": null,
   "metadata": {},
   "outputs": [],
   "source": [
    "    response = urllib.request.urlopen(pdf_link)  \n",
    "    file_name = pdf_title + '.pdf'\n",
    "    \n",
    "    directory = pdf_directory + '\\\\' + file_name\n",
    "    \n",
    "    file = open(directory, 'wb')\n",
    "    file.write(response.read())\n",
    "    file.close()"
   ]
  },
  {
   "cell_type": "code",
   "execution_count": 4,
   "metadata": {},
   "outputs": [
    {
     "data": {
      "text/plain": [
       "'PDF list Updated'"
      ]
     },
     "execution_count": 4,
     "metadata": {},
     "output_type": "execute_result"
    }
   ],
   "source": [
    "url = 'https://www.sec.gov/divisions/investment/13flists.htm'\n",
    "headers = {\"user-agent\": \"Chrome/98.0.4758.82\"}\n",
    "w\n",
    "pdf_directory = r\"C:\\Users\\sbucarion1\\london python\\Official Python Business\\Trading Strategies Spring 2021 Current\\13F Scraper\\sec_pdfs\"\n",
    "\n",
    "update_pdf_cusip_list(url,headers,pdf_directory)"
   ]
  },
  {
   "cell_type": "code",
   "execution_count": 25,
   "metadata": {},
   "outputs": [
    {
     "data": {
      "text/plain": [
       "('/files/investment/13flist2022q1.pdf', '13flist2022q1')"
      ]
     },
     "execution_count": 25,
     "metadata": {},
     "output_type": "execute_result"
    }
   ],
   "source": [
    "find_current_list(url,headers)"
   ]
  },
  {
   "cell_type": "code",
   "execution_count": 21,
   "metadata": {},
   "outputs": [
    {
     "data": {
      "text/plain": [
       "'13flist2022q1'"
      ]
     },
     "execution_count": 21,
     "metadata": {},
     "output_type": "execute_result"
    }
   ],
   "source": [
    "link.split(\"/\")[-1].split(\".\")[0]"
   ]
  },
  {
   "cell_type": "code",
   "execution_count": null,
   "metadata": {},
   "outputs": [],
   "source": []
  }
 ],
 "metadata": {
  "kernelspec": {
   "display_name": "Python 3",
   "language": "python",
   "name": "python3"
  },
  "language_info": {
   "codemirror_mode": {
    "name": "ipython",
    "version": 3
   },
   "file_extension": ".py",
   "mimetype": "text/x-python",
   "name": "python",
   "nbconvert_exporter": "python",
   "pygments_lexer": "ipython3",
   "version": "3.8.5"
  }
 },
 "nbformat": 4,
 "nbformat_minor": 4
}
